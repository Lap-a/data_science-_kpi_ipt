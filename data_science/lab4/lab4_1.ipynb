{
 "cells": [
  {
   "cell_type": "markdown",
   "metadata": {},
   "source": [
    "# Засоби підготовки та налізу даних\n",
    "## Лабораторна робота №4_1\n",
    "### ФБ-22 Лаптєв Денис"
   ]
  },
  {
   "cell_type": "markdown",
   "metadata": {},
   "source": [
    "\n",
    "#### Підготовка середовища"
   ]
  },
  {
   "cell_type": "code",
   "execution_count": 1,
   "metadata": {},
   "outputs": [
    {
     "name": "stdout",
     "output_type": "stream",
     "text": [
      "setup complete\n"
     ]
    }
   ],
   "source": [
    "import pandas as pd\n",
    "import numpy as np\n",
    "import timeit\n",
    "import urllib.request\n",
    "from datetime import time\n",
    "print ('setup complete')"
   ]
  },
  {
   "cell_type": "markdown",
   "metadata": {},
   "source": [
    "##### Завантаження датасету"
   ]
  },
  {
   "cell_type": "code",
   "execution_count": 51,
   "metadata": {},
   "outputs": [
    {
     "name": "stderr",
     "output_type": "stream",
     "text": [
      "C:\\Users\\Denys\\AppData\\Local\\Temp\\ipykernel_10060\\20275659.py:8: DtypeWarning: Columns (2,3,4,5,6,7) have mixed types. Specify dtype option on import or set low_memory=False.\n",
      "  df = pd.read_csv(\"data/data_1.csv\")\n",
      "C:\\Users\\Denys\\AppData\\Local\\Temp\\ipykernel_10060\\20275659.py:21: UserWarning: Parsing dates in %d/%m/%Y %H:%M:%S format when dayfirst=False (the default) was specified. Pass `dayfirst=True` or specify a format to silence this warning.\n",
      "  df.insert(0,\"DataTime\", pd.to_datetime(df['Date'] + ' ' + df['Time']))\n"
     ]
    }
   ],
   "source": [
    "def load_data(id = 235):\n",
    "    url = \"https://archive.ics.uci.edu/static/public/\"+str(id)+\"/data.csv\"\n",
    "    filename = \"data/data_1.csv\"\n",
    "\n",
    "    urllib.request.urlretrieve(url, filename)\n",
    "\n",
    "def create_df():\n",
    "    df = pd.read_csv(\"data/data_1.csv\")\n",
    "\n",
    "    df = df.drop(df.loc[df['Sub_metering_1'] =='?'].index)\n",
    "\n",
    "    df['Global_active_power'] = df['Global_active_power'].astype(float)\n",
    "    df['Global_reactive_power'] = df['Global_reactive_power'].astype(float)\n",
    "    df['Voltage'] = df['Voltage'].astype(float)\n",
    "    df['Global_intensity'] = df['Global_intensity'].astype(float)\n",
    "    df['Sub_metering_1'] = df['Sub_metering_1'].astype(float)\n",
    "    df['Sub_metering_2'] = df['Sub_metering_2'].astype(float)\n",
    "    df['Sub_metering_3'] = df['Sub_metering_3'].astype(float)\n",
    "\n",
    "\n",
    "    df.insert(0,\"DataTime\", pd.to_datetime(df['Date'] + ' ' + df['Time']))\n",
    "    df = df.drop(['Date', 'Time'], axis=1)\n",
    "\n",
    "    return df\n",
    "\n",
    "def create_arr(df):\n",
    "    numpy_array = df.values\n",
    "    # for row in numpy_array:\n",
    "    #     row[0] = row[0].to_pydatetime().time()\n",
    "    return numpy_array\n",
    "\n",
    "#load_data()\n",
    "df = create_df()\n",
    "npdf = create_arr(df)"
   ]
  },
  {
   "cell_type": "code",
   "execution_count": 96,
   "metadata": {},
   "outputs": [
    {
     "data": {
      "text/plain": [
       "numpy.ndarray"
      ]
     },
     "execution_count": 96,
     "metadata": {},
     "output_type": "execute_result"
    }
   ],
   "source": [
    "#\n",
    "type(npdf[0])"
   ]
  },
  {
   "cell_type": "code",
   "execution_count": 121,
   "metadata": {},
   "outputs": [
    {
     "name": "stdout",
     "output_type": "stream",
     "text": [
      "<class 'pandas.core.frame.DataFrame'>\n",
      "Index: 2049280 entries, 0 to 2075258\n",
      "Data columns (total 8 columns):\n",
      " #   Column                 Dtype         \n",
      "---  ------                 -----         \n",
      " 0   DataTime               datetime64[ns]\n",
      " 1   Global_active_power    float64       \n",
      " 2   Global_reactive_power  float64       \n",
      " 3   Voltage                float64       \n",
      " 4   Global_intensity       float64       \n",
      " 5   Sub_metering_1         float64       \n",
      " 6   Sub_metering_2         float64       \n",
      " 7   Sub_metering_3         float64       \n",
      "dtypes: datetime64[ns](1), float64(7)\n",
      "memory usage: 140.7 MB\n"
     ]
    }
   ],
   "source": [
    "df.info()\n",
    "#df.Time.nunique()\n",
    "#print(df)\n",
    "#df.to_csv('output.csv', index=False)\n",
    "#print(type(numpy_array))\n",
    "#print(npdf)"
   ]
  },
  {
   "cell_type": "markdown",
   "metadata": {},
   "source": [
    "#### Хід роботи"
   ]
  },
  {
   "cell_type": "markdown",
   "metadata": {},
   "source": [
    "- Виконати всі завдання, використовуючи як numpy array, так і dataframe\n",
    "- проаналізувати часові витрати на виконання процедур(профілювання часу виконання)\n",
    "- зробити висновки щодо ситуацій, в яких має сенс віддати перевагу тій чи іншій структурі даних. Висновки оформити звітом із зазначеним часом виконання та оцінкою по 5-бальній шкалі зручності виконання операцій відбору.\n",
    "- залишити лише ті спостереження, в яких немає порожніх спостережень (порожні значення – пусті поля між роздільником – ? – 28.04.2007, як приклад)."
   ]
  },
  {
   "cell_type": "markdown",
   "metadata": {},
   "source": [
    "1. Обрати всі домогосподарства, у яких загальна активна споживана потужність перевищує 5 кВт."
   ]
  },
  {
   "cell_type": "code",
   "execution_count": 90,
   "metadata": {},
   "outputs": [
    {
     "name": "stderr",
     "output_type": "stream",
     "text": [
      "C:\\Users\\Denys\\AppData\\Local\\Temp\\ipykernel_10060\\20275659.py:8: DtypeWarning: Columns (2,3,4,5,6,7) have mixed types. Specify dtype option on import or set low_memory=False.\n",
      "  df = pd.read_csv(\"data/data_1.csv\")\n",
      "C:\\Users\\Denys\\AppData\\Local\\Temp\\ipykernel_10060\\20275659.py:21: UserWarning: Parsing dates in %d/%m/%Y %H:%M:%S format when dayfirst=False (the default) was specified. Pass `dayfirst=True` or specify a format to silence this warning.\n",
      "  df.insert(0,\"DataTime\", pd.to_datetime(df['Date'] + ' ' + df['Time']))\n"
     ]
    },
    {
     "name": "stdout",
     "output_type": "stream",
     "text": [
      "pd: [0.005864799983100966]\n"
     ]
    },
    {
     "name": "stderr",
     "output_type": "stream",
     "text": [
      "C:\\Users\\Denys\\AppData\\Local\\Temp\\ipykernel_10060\\20275659.py:8: DtypeWarning: Columns (2,3,4,5,6,7) have mixed types. Specify dtype option on import or set low_memory=False.\n",
      "  df = pd.read_csv(\"data/data_1.csv\")\n",
      "C:\\Users\\Denys\\AppData\\Local\\Temp\\ipykernel_10060\\20275659.py:21: UserWarning: Parsing dates in %d/%m/%Y %H:%M:%S format when dayfirst=False (the default) was specified. Pass `dayfirst=True` or specify a format to silence this warning.\n",
      "  df.insert(0,\"DataTime\", pd.to_datetime(df['Date'] + ' ' + df['Time']))\n"
     ]
    },
    {
     "name": "stdout",
     "output_type": "stream",
     "text": [
      "np: [0.04937439999775961]\n"
     ]
    }
   ],
   "source": [
    "def fun_1_pd(df):\n",
    "    result_df = df[(df['Global_active_power'] > 5)]\n",
    "    return result_df\n",
    "\n",
    "def fun_1_np(npdf):\n",
    "    result_npdf = npdf[(npdf[:,1] > 5)]\n",
    "    return(result_npdf)\n",
    "\n",
    "\n",
    "SeTuP = '''\n",
    "from __main__ import fun_1_np, create_df, create_arr, fun_1_pd\n",
    "df = create_df()\n",
    "npdf = create_arr(df)'''\n",
    "_pd= '''\n",
    "fun_1_pd(df)'''\n",
    "print(\"pd:\", timeit.repeat(setup=SeTuP, stmt=_pd, repeat=1, number=1))\n",
    "_np = '''\n",
    "fun_1_np(npdf)'''\n",
    "print(\"np:\", timeit.repeat(setup=SeTuP, stmt=_np, repeat=1, number=1))"
   ]
  },
  {
   "cell_type": "markdown",
   "metadata": {},
   "source": [
    "2. Обрати всі домогосподарства, у яких вольтаж перевищую 235 В."
   ]
  },
  {
   "cell_type": "code",
   "execution_count": 73,
   "metadata": {},
   "outputs": [
    {
     "name": "stderr",
     "output_type": "stream",
     "text": [
      "C:\\Users\\Denys\\AppData\\Local\\Temp\\ipykernel_10060\\20275659.py:8: DtypeWarning: Columns (2,3,4,5,6,7) have mixed types. Specify dtype option on import or set low_memory=False.\n",
      "  df = pd.read_csv(\"data/data_1.csv\")\n",
      "C:\\Users\\Denys\\AppData\\Local\\Temp\\ipykernel_10060\\20275659.py:21: UserWarning: Parsing dates in %d/%m/%Y %H:%M:%S format when dayfirst=False (the default) was specified. Pass `dayfirst=True` or specify a format to silence this warning.\n",
      "  df.insert(0,\"DataTime\", pd.to_datetime(df['Date'] + ' ' + df['Time']))\n"
     ]
    },
    {
     "name": "stdout",
     "output_type": "stream",
     "text": [
      "pd: [0.11963870000909083]\n"
     ]
    },
    {
     "name": "stderr",
     "output_type": "stream",
     "text": [
      "C:\\Users\\Denys\\AppData\\Local\\Temp\\ipykernel_10060\\20275659.py:8: DtypeWarning: Columns (2,3,4,5,6,7) have mixed types. Specify dtype option on import or set low_memory=False.\n",
      "  df = pd.read_csv(\"data/data_1.csv\")\n",
      "C:\\Users\\Denys\\AppData\\Local\\Temp\\ipykernel_10060\\20275659.py:21: UserWarning: Parsing dates in %d/%m/%Y %H:%M:%S format when dayfirst=False (the default) was specified. Pass `dayfirst=True` or specify a format to silence this warning.\n",
      "  df.insert(0,\"DataTime\", pd.to_datetime(df['Date'] + ' ' + df['Time']))\n"
     ]
    },
    {
     "name": "stdout",
     "output_type": "stream",
     "text": [
      "np: [0.39338080000015907]\n"
     ]
    }
   ],
   "source": [
    "def fun_2_pd(df):\n",
    "    result_df = df[(df['Voltage'] > 235)]\n",
    "    return result_df\n",
    "\n",
    "def fun_2_np(npdf):\n",
    "    result_npdf = npdf[(npdf[:,3] > 235)]\n",
    "    return result_npdf\n",
    "\n",
    "SeTuP = '''\n",
    "from __main__ import fun_2_np, create_df, create_arr, fun_2_pd\n",
    "df = create_df()\n",
    "npdf = create_arr(df)'''\n",
    "_pd= '''\n",
    "fun_2_pd(df)'''\n",
    "print(\"pd:\", timeit.repeat(setup=SeTuP, stmt=_pd, repeat=1, number=1))\n",
    "_np = '''\n",
    "fun_2_np(npdf)'''\n",
    "print(\"np:\", timeit.repeat(setup=SeTuP, stmt=_np, repeat=1, number=1))"
   ]
  },
  {
   "cell_type": "markdown",
   "metadata": {},
   "source": [
    "3. Обрати всі домогосподарства, у яких сила струму лежить в межах 19-20 А, для них виявити ті, у яких пральна машина та холодильних споживають більше, ніж бойлер та кондиціонер."
   ]
  },
  {
   "cell_type": "code",
   "execution_count": 98,
   "metadata": {},
   "outputs": [
    {
     "name": "stderr",
     "output_type": "stream",
     "text": [
      "C:\\Users\\Denys\\AppData\\Local\\Temp\\ipykernel_10060\\20275659.py:8: DtypeWarning: Columns (2,3,4,5,6,7) have mixed types. Specify dtype option on import or set low_memory=False.\n",
      "  df = pd.read_csv(\"data/data_1.csv\")\n",
      "C:\\Users\\Denys\\AppData\\Local\\Temp\\ipykernel_10060\\20275659.py:21: UserWarning: Parsing dates in %d/%m/%Y %H:%M:%S format when dayfirst=False (the default) was specified. Pass `dayfirst=True` or specify a format to silence this warning.\n",
      "  df.insert(0,\"DataTime\", pd.to_datetime(df['Date'] + ' ' + df['Time']))\n"
     ]
    },
    {
     "name": "stdout",
     "output_type": "stream",
     "text": [
      "pd: [0.011640500015346333]\n"
     ]
    },
    {
     "name": "stderr",
     "output_type": "stream",
     "text": [
      "C:\\Users\\Denys\\AppData\\Local\\Temp\\ipykernel_10060\\20275659.py:8: DtypeWarning: Columns (2,3,4,5,6,7) have mixed types. Specify dtype option on import or set low_memory=False.\n",
      "  df = pd.read_csv(\"data/data_1.csv\")\n",
      "C:\\Users\\Denys\\AppData\\Local\\Temp\\ipykernel_10060\\20275659.py:21: UserWarning: Parsing dates in %d/%m/%Y %H:%M:%S format when dayfirst=False (the default) was specified. Pass `dayfirst=True` or specify a format to silence this warning.\n",
      "  df.insert(0,\"DataTime\", pd.to_datetime(df['Date'] + ' ' + df['Time']))\n"
     ]
    },
    {
     "name": "stdout",
     "output_type": "stream",
     "text": [
      "np: [0.12289069997495972]\n"
     ]
    }
   ],
   "source": [
    "def fun_3_pd(df):\n",
    "    result_df = df[(df['Global_intensity'].between(19, 20)) & (df['Sub_metering_2'] > df['Sub_metering_3'])]\n",
    "    return result_df\n",
    "\n",
    "def fun_3_np(npdf):\n",
    "    result_df = npdf[((npdf[:,4] >= 19) & (npdf[:,4] <= 20) & (npdf[:,6] > npdf[:,7]))]\n",
    "    return result_df\n",
    "\n",
    "SeTuP = '''\n",
    "from __main__ import fun_3_np, create_df, create_arr, fun_3_pd\n",
    "df = create_df()\n",
    "npdf = create_arr(df)'''\n",
    "_pd= '''\n",
    "fun_3_pd(df)'''\n",
    "print(\"pd:\", timeit.repeat(setup=SeTuP, stmt=_pd, repeat=1, number=1))\n",
    "_np = '''\n",
    "fun_3_np(npdf)'''\n",
    "print(\"np:\", timeit.repeat(setup=SeTuP, stmt=_np, repeat=1, number=1))"
   ]
  },
  {
   "cell_type": "markdown",
   "metadata": {},
   "source": [
    "4. Обрати випадковим чином 5000(00)? домогосподарств (без повторів елементів вибірки), для них обчислити середні величини усіх 3-х груп споживання електричної енергії."
   ]
  },
  {
   "cell_type": "code",
   "execution_count": 101,
   "metadata": {},
   "outputs": [
    {
     "name": "stderr",
     "output_type": "stream",
     "text": [
      "C:\\Users\\Denys\\AppData\\Local\\Temp\\ipykernel_10060\\20275659.py:8: DtypeWarning: Columns (2,3,4,5,6,7) have mixed types. Specify dtype option on import or set low_memory=False.\n",
      "  df = pd.read_csv(\"data/data_1.csv\")\n",
      "C:\\Users\\Denys\\AppData\\Local\\Temp\\ipykernel_10060\\20275659.py:21: UserWarning: Parsing dates in %d/%m/%Y %H:%M:%S format when dayfirst=False (the default) was specified. Pass `dayfirst=True` or specify a format to silence this warning.\n",
      "  df.insert(0,\"DataTime\", pd.to_datetime(df['Date'] + ' ' + df['Time']))\n"
     ]
    },
    {
     "ename": "ValueError",
     "evalue": "a must be 1-dimensional",
     "output_type": "error",
     "traceback": [
      "\u001b[1;31m---------------------------------------------------------------------------\u001b[0m",
      "\u001b[1;31mValueError\u001b[0m                                Traceback (most recent call last)",
      "Cell \u001b[1;32mIn[101], line 26\u001b[0m\n\u001b[0;32m     21\u001b[0m \u001b[38;5;66;03m# _pd= '''\u001b[39;00m\n\u001b[0;32m     22\u001b[0m \u001b[38;5;66;03m# fun_4_pd(df)'''\u001b[39;00m\n\u001b[0;32m     23\u001b[0m \u001b[38;5;66;03m# print(\"pd:\", timeit.repeat(setup=SeTuP, stmt=_pd, repeat=1, number=1))\u001b[39;00m\n\u001b[0;32m     24\u001b[0m _np \u001b[38;5;241m=\u001b[39m \u001b[38;5;124m'''\u001b[39m\n\u001b[0;32m     25\u001b[0m \u001b[38;5;124mfun_4_np(npdf)\u001b[39m\u001b[38;5;124m'''\u001b[39m\n\u001b[1;32m---> 26\u001b[0m \u001b[38;5;28mprint\u001b[39m(\u001b[38;5;124m\"\u001b[39m\u001b[38;5;124mnp:\u001b[39m\u001b[38;5;124m\"\u001b[39m, \u001b[43mtimeit\u001b[49m\u001b[38;5;241;43m.\u001b[39;49m\u001b[43mrepeat\u001b[49m\u001b[43m(\u001b[49m\u001b[43msetup\u001b[49m\u001b[38;5;241;43m=\u001b[39;49m\u001b[43mSeTuP\u001b[49m\u001b[43m,\u001b[49m\u001b[43m \u001b[49m\u001b[43mstmt\u001b[49m\u001b[38;5;241;43m=\u001b[39;49m\u001b[43m_np\u001b[49m\u001b[43m,\u001b[49m\u001b[43m \u001b[49m\u001b[43mrepeat\u001b[49m\u001b[38;5;241;43m=\u001b[39;49m\u001b[38;5;241;43m1\u001b[39;49m\u001b[43m,\u001b[49m\u001b[43m \u001b[49m\u001b[43mnumber\u001b[49m\u001b[38;5;241;43m=\u001b[39;49m\u001b[38;5;241;43m1\u001b[39;49m\u001b[43m)\u001b[49m)\n",
      "File \u001b[1;32mc:\\Users\\Denys\\AppData\\Local\\Programs\\Python\\Python312\\Lib\\timeit.py:243\u001b[0m, in \u001b[0;36mrepeat\u001b[1;34m(stmt, setup, timer, repeat, number, globals)\u001b[0m\n\u001b[0;32m    240\u001b[0m \u001b[38;5;28;01mdef\u001b[39;00m \u001b[38;5;21mrepeat\u001b[39m(stmt\u001b[38;5;241m=\u001b[39m\u001b[38;5;124m\"\u001b[39m\u001b[38;5;124mpass\u001b[39m\u001b[38;5;124m\"\u001b[39m, setup\u001b[38;5;241m=\u001b[39m\u001b[38;5;124m\"\u001b[39m\u001b[38;5;124mpass\u001b[39m\u001b[38;5;124m\"\u001b[39m, timer\u001b[38;5;241m=\u001b[39mdefault_timer,\n\u001b[0;32m    241\u001b[0m            repeat\u001b[38;5;241m=\u001b[39mdefault_repeat, number\u001b[38;5;241m=\u001b[39mdefault_number, \u001b[38;5;28mglobals\u001b[39m\u001b[38;5;241m=\u001b[39m\u001b[38;5;28;01mNone\u001b[39;00m):\n\u001b[0;32m    242\u001b[0m \u001b[38;5;250m    \u001b[39m\u001b[38;5;124;03m\"\"\"Convenience function to create Timer object and call repeat method.\"\"\"\u001b[39;00m\n\u001b[1;32m--> 243\u001b[0m     \u001b[38;5;28;01mreturn\u001b[39;00m \u001b[43mTimer\u001b[49m\u001b[43m(\u001b[49m\u001b[43mstmt\u001b[49m\u001b[43m,\u001b[49m\u001b[43m \u001b[49m\u001b[43msetup\u001b[49m\u001b[43m,\u001b[49m\u001b[43m \u001b[49m\u001b[43mtimer\u001b[49m\u001b[43m,\u001b[49m\u001b[43m \u001b[49m\u001b[38;5;28;43mglobals\u001b[39;49m\u001b[43m)\u001b[49m\u001b[38;5;241;43m.\u001b[39;49m\u001b[43mrepeat\u001b[49m\u001b[43m(\u001b[49m\u001b[43mrepeat\u001b[49m\u001b[43m,\u001b[49m\u001b[43m \u001b[49m\u001b[43mnumber\u001b[49m\u001b[43m)\u001b[49m\n",
      "File \u001b[1;32mc:\\Users\\Denys\\AppData\\Local\\Programs\\Python\\Python312\\Lib\\timeit.py:208\u001b[0m, in \u001b[0;36mTimer.repeat\u001b[1;34m(self, repeat, number)\u001b[0m\n\u001b[0;32m    206\u001b[0m r \u001b[38;5;241m=\u001b[39m []\n\u001b[0;32m    207\u001b[0m \u001b[38;5;28;01mfor\u001b[39;00m i \u001b[38;5;129;01min\u001b[39;00m \u001b[38;5;28mrange\u001b[39m(repeat):\n\u001b[1;32m--> 208\u001b[0m     t \u001b[38;5;241m=\u001b[39m \u001b[38;5;28;43mself\u001b[39;49m\u001b[38;5;241;43m.\u001b[39;49m\u001b[43mtimeit\u001b[49m\u001b[43m(\u001b[49m\u001b[43mnumber\u001b[49m\u001b[43m)\u001b[49m\n\u001b[0;32m    209\u001b[0m     r\u001b[38;5;241m.\u001b[39mappend(t)\n\u001b[0;32m    210\u001b[0m \u001b[38;5;28;01mreturn\u001b[39;00m r\n",
      "File \u001b[1;32mc:\\Users\\Denys\\AppData\\Local\\Programs\\Python\\Python312\\Lib\\timeit.py:180\u001b[0m, in \u001b[0;36mTimer.timeit\u001b[1;34m(self, number)\u001b[0m\n\u001b[0;32m    178\u001b[0m gc\u001b[38;5;241m.\u001b[39mdisable()\n\u001b[0;32m    179\u001b[0m \u001b[38;5;28;01mtry\u001b[39;00m:\n\u001b[1;32m--> 180\u001b[0m     timing \u001b[38;5;241m=\u001b[39m \u001b[38;5;28;43mself\u001b[39;49m\u001b[38;5;241;43m.\u001b[39;49m\u001b[43minner\u001b[49m\u001b[43m(\u001b[49m\u001b[43mit\u001b[49m\u001b[43m,\u001b[49m\u001b[43m \u001b[49m\u001b[38;5;28;43mself\u001b[39;49m\u001b[38;5;241;43m.\u001b[39;49m\u001b[43mtimer\u001b[49m\u001b[43m)\u001b[49m\n\u001b[0;32m    181\u001b[0m \u001b[38;5;28;01mfinally\u001b[39;00m:\n\u001b[0;32m    182\u001b[0m     \u001b[38;5;28;01mif\u001b[39;00m gcold:\n",
      "File \u001b[1;32m<timeit-src>:10\u001b[0m, in \u001b[0;36minner\u001b[1;34m(_it, _timer)\u001b[0m\n",
      "Cell \u001b[1;32mIn[101], line 10\u001b[0m, in \u001b[0;36mfun_4_np\u001b[1;34m(npdf)\u001b[0m\n\u001b[0;32m      9\u001b[0m \u001b[38;5;28;01mdef\u001b[39;00m \u001b[38;5;21mfun_4_np\u001b[39m(npdf):\n\u001b[1;32m---> 10\u001b[0m     result_df \u001b[38;5;241m=\u001b[39m \u001b[43mnp\u001b[49m\u001b[38;5;241;43m.\u001b[39;49m\u001b[43mrandom\u001b[49m\u001b[38;5;241;43m.\u001b[39;49m\u001b[43mchoice\u001b[49m\u001b[43m(\u001b[49m\u001b[43mnpdf\u001b[49m\u001b[43m,\u001b[49m\u001b[43m \u001b[49m\u001b[43msize\u001b[49m\u001b[38;5;241;43m=\u001b[39;49m\u001b[38;5;241;43m500000\u001b[39;49m\u001b[43m)\u001b[49m\n\u001b[0;32m     11\u001b[0m     avg_1 \u001b[38;5;241m=\u001b[39m np\u001b[38;5;241m.\u001b[39mmean(result_df[:, \u001b[38;5;241m5\u001b[39m])  \u001b[38;5;66;03m# mean from numpy\u001b[39;00m\n\u001b[0;32m     12\u001b[0m     avg_2 \u001b[38;5;241m=\u001b[39m np\u001b[38;5;241m.\u001b[39mmean(result_df[:, \u001b[38;5;241m6\u001b[39m])\n",
      "File \u001b[1;32mnumpy\\\\random\\\\mtrand.pyx:947\u001b[0m, in \u001b[0;36mnumpy.random.mtrand.RandomState.choice\u001b[1;34m()\u001b[0m\n",
      "\u001b[1;31mValueError\u001b[0m: a must be 1-dimensional"
     ]
    }
   ],
   "source": [
    "def fun_4_pd(df):\n",
    "    result_df = df.sample(n=500000)\n",
    "    avg_1 = result_df['Sub_metering_1'].mean() # mean from pandas\n",
    "    avg_2 = result_df['Sub_metering_2'].mean()\n",
    "    avg_3 = result_df['Sub_metering_3'].mean()\n",
    "    print(f\"Sub 1 avg: {avg_1}\\nSub 2 avg: {avg_2}\\nSub 3 avg: {avg_3}\")\n",
    "    return result_df\n",
    "\n",
    "def fun_4_np(npdf):\n",
    "    result_df = npdf[np.random.choice(npdf.shape[0], size=500000)]\n",
    "    avg_1 = np.mean(result_df[:, 5])  # mean from numpy\n",
    "    avg_2 = np.mean(result_df[:, 6])\n",
    "    avg_3 = np.mean(result_df[:, 7])\n",
    "    print(f\"Sub 1 avg: {avg_1}\\nSub 2 avg: {avg_2}\\nSub 3 avg: {avg_3}\")\n",
    "    return result_df\n",
    "\n",
    "SeTuP = '''\n",
    "from __main__ import fun_4_np, create_df, create_arr, fun_4_pd\n",
    "df = create_df()\n",
    "npdf = create_arr(df)'''\n",
    "_pd= '''\n",
    "fun_4_pd(df)'''\n",
    "print(\"pd:\", timeit.repeat(setup=SeTuP, stmt=_pd, repeat=1, number=1))\n",
    "_np = '''\n",
    "fun_4_np(npdf)'''\n",
    "print(\"np:\", timeit.repeat(setup=SeTuP, stmt=_np, repeat=1, number=1))"
   ]
  },
  {
   "cell_type": "markdown",
   "metadata": {},
   "source": [
    "5. Обрати ті домогосподарства, які після 18-00 споживають понад 6 кВт за хвилину в середньому, серед відібраних визначити ті, у яких основне споживання електроенергії у вказаний проміжок часу припадає на пральну машину, сушарку, холодильник та освітлення (група 2 є найбільшою), а потім обрати кожен третій результат із першої половини та кожен четвертий результат із другої половини."
   ]
  },
  {
   "cell_type": "code",
   "execution_count": 107,
   "metadata": {},
   "outputs": [
    {
     "name": "stdout",
     "output_type": "stream",
     "text": [
      "2006-12-16 17:25:00\n",
      "<class 'datetime.datetime'>\n",
      "17:25:00\n"
     ]
    }
   ],
   "source": [
    "x = npdf[1,0]\n",
    "print(x)\n",
    "x = x.to_pydatetime()\n",
    "print(type(x))\n",
    "print(x.time())\n"
   ]
  },
  {
   "cell_type": "code",
   "execution_count": 111,
   "metadata": {},
   "outputs": [],
   "source": [
    "\n",
    "for row in npdf:\n",
    "    row[0] = row[0].to_pydatetime().time()\n"
   ]
  },
  {
   "cell_type": "code",
   "execution_count": 114,
   "metadata": {},
   "outputs": [
    {
     "name": "stderr",
     "output_type": "stream",
     "text": [
      "C:\\Users\\Denys\\AppData\\Local\\Temp\\ipykernel_10060\\20275659.py:8: DtypeWarning: Columns (2,3,4,5,6,7) have mixed types. Specify dtype option on import or set low_memory=False.\n",
      "  df = pd.read_csv(\"data/data_1.csv\")\n",
      "C:\\Users\\Denys\\AppData\\Local\\Temp\\ipykernel_10060\\20275659.py:21: UserWarning: Parsing dates in %d/%m/%Y %H:%M:%S format when dayfirst=False (the default) was specified. Pass `dayfirst=True` or specify a format to silence this warning.\n",
      "  df.insert(0,\"DataTime\", pd.to_datetime(df['Date'] + ' ' + df['Time']))\n"
     ]
    },
    {
     "name": "stdout",
     "output_type": "stream",
     "text": [
      "pd: [0.6082810999942012]\n"
     ]
    },
    {
     "name": "stderr",
     "output_type": "stream",
     "text": [
      "C:\\Users\\Denys\\AppData\\Local\\Temp\\ipykernel_10060\\20275659.py:8: DtypeWarning: Columns (2,3,4,5,6,7) have mixed types. Specify dtype option on import or set low_memory=False.\n",
      "  df = pd.read_csv(\"data/data_1.csv\")\n",
      "C:\\Users\\Denys\\AppData\\Local\\Temp\\ipykernel_10060\\20275659.py:21: UserWarning: Parsing dates in %d/%m/%Y %H:%M:%S format when dayfirst=False (the default) was specified. Pass `dayfirst=True` or specify a format to silence this warning.\n",
      "  df.insert(0,\"DataTime\", pd.to_datetime(df['Date'] + ' ' + df['Time']))\n"
     ]
    },
    {
     "name": "stdout",
     "output_type": "stream",
     "text": [
      "np: [1.8839575999882072]\n"
     ]
    }
   ],
   "source": [
    "def fun_5_pd(df):\n",
    "    result_df = df[(df[\"DataTime\"].dt.time > time(18, 0)) & (df[\"Global_active_power\"] >= 6)]\n",
    "    result_df = result_df[(result_df[\"Sub_metering_2\"]>result_df[\"Sub_metering_1\"])&(result_df[\"Sub_metering_2\"]>result_df[\"Sub_metering_3\"])]\n",
    "    mid = len(result_df) // 2\n",
    "    first_half = result_df.iloc[:mid:3]\n",
    "    second_half = result_df.iloc[mid::4]\n",
    "    result_df = pd.concat([first_half, second_half])\n",
    "    return result_df\n",
    "\n",
    "def fun_5_np(npdf):\n",
    "    result_npdf = npdf\n",
    "    for row in result_npdf:\n",
    "        row[0] = row[0].to_pydatetime().time()\n",
    "    result_npdf = result_npdf[(result_npdf[:,0] > time(18, 0)) & (result_npdf[:,1] >= 6)]\n",
    "\n",
    "    result_npdf = result_npdf[((result_npdf[:,6] > result_npdf[:,5]) & (result_npdf[:,6] > result_npdf[:,7]))]\n",
    "\n",
    "    half = len(result_npdf) // 2\n",
    "    first_half = result_npdf[:half:3]\n",
    "    second_half = result_npdf[half::4]\n",
    "    result_npdf = np.concatenate((first_half, second_half))\n",
    "    return result_npdf\n",
    "\n",
    "SeTuP = '''\n",
    "from __main__ import fun_5_np, create_df, create_arr, fun_5_pd\n",
    "df = create_df()\n",
    "npdf = create_arr(df)'''\n",
    "_pd= '''\n",
    "fun_5_pd(df)'''\n",
    "print(\"pd:\", timeit.repeat(setup=SeTuP, stmt=_pd, repeat=1, number=1))\n",
    "_np = '''\n",
    "fun_5_np(npdf)'''\n",
    "print(\"np:\", timeit.repeat(setup=SeTuP, stmt=_np, repeat=1, number=1))"
   ]
  },
  {
   "cell_type": "markdown",
   "metadata": {},
   "source": [
    "Не зрозуміло, що краще використовувати: pd чи np. Щоразу швидшим виявляється, то один методі, то інший. Важко прогледіти якісь тенденцію у часі форматування датасету."
   ]
  }
 ],
 "metadata": {
  "kernelspec": {
   "display_name": "Python 3",
   "language": "python",
   "name": "python3"
  },
  "language_info": {
   "codemirror_mode": {
    "name": "ipython",
    "version": 3
   },
   "file_extension": ".py",
   "mimetype": "text/x-python",
   "name": "python",
   "nbconvert_exporter": "python",
   "pygments_lexer": "ipython3",
   "version": "3.12.2"
  }
 },
 "nbformat": 4,
 "nbformat_minor": 2
}
