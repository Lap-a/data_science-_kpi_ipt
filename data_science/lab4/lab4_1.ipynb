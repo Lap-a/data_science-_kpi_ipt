{
 "cells": [
  {
   "cell_type": "markdown",
   "metadata": {},
   "source": [
    "# Засоби підготовки та налізу даних\n",
    "## Лабораторна робота №4\n",
    "### ФБ-22 Лаптєв Денис"
   ]
  },
  {
   "cell_type": "markdown",
   "metadata": {},
   "source": [
    "\n",
    "#### Підготовка середовища"
   ]
  },
  {
   "cell_type": "code",
   "execution_count": 103,
   "metadata": {},
   "outputs": [
    {
     "name": "stdout",
     "output_type": "stream",
     "text": [
      "setup complete\n"
     ]
    }
   ],
   "source": [
    "import pandas as pd\n",
    "import numpy as np\n",
    "import timeit\n",
    "import seaborn as sns\n",
    "import matplotlib.pyplot as plt\n",
    "import urllib.request\n",
    "from datetime import datetime, time\n",
    "print ('setup complete')"
   ]
  },
  {
   "cell_type": "markdown",
   "metadata": {},
   "source": [
    "##### Завантаження датасету"
   ]
  },
  {
   "cell_type": "code",
   "execution_count": 6,
   "metadata": {},
   "outputs": [
    {
     "data": {
      "text/plain": [
       "('data/data.csv', <http.client.HTTPMessage at 0x2e3e2776d50>)"
      ]
     },
     "execution_count": 6,
     "metadata": {},
     "output_type": "execute_result"
    }
   ],
   "source": [
    "url = \"https://archive.ics.uci.edu/static/public/235/data.csv\"\n",
    "filename = \"data/data.csv\"\n",
    "\n",
    "urllib.request.urlretrieve(url, filename)"
   ]
  },
  {
   "cell_type": "code",
   "execution_count": 118,
   "metadata": {},
   "outputs": [
    {
     "name": "stderr",
     "output_type": "stream",
     "text": [
      "C:\\Users\\Denys\\AppData\\Local\\Temp\\ipykernel_14700\\1462750726.py:8: DtypeWarning: Columns (2,3,4,5,6,7) have mixed types. Specify dtype option on import or set low_memory=False.\n",
      "  df = pd.read_csv(\"data/data.csv\")\n",
      "C:\\Users\\Denys\\AppData\\Local\\Temp\\ipykernel_14700\\1462750726.py:21: UserWarning: Parsing dates in %d/%m/%Y %H:%M:%S format when dayfirst=False (the default) was specified. Pass `dayfirst=True` or specify a format to silence this warning.\n",
      "  df.insert(0,\"DataTime\", pd.to_datetime(df['Date'] + ' ' + df['Time']))\n"
     ]
    }
   ],
   "source": [
    "def load_data():\n",
    "    url = \"https://archive.ics.uci.edu/static/public/235/data.csv\"\n",
    "    filename = \"data/data.csv\"\n",
    "\n",
    "    urllib.request.urlretrieve(url, filename)\n",
    "\n",
    "def create_df():\n",
    "    df = pd.read_csv(\"data/data.csv\")\n",
    "\n",
    "    df = df.drop(df.loc[df['Sub_metering_1'] =='?'].index)\n",
    "\n",
    "    df['Global_active_power'] = df['Global_active_power'].astype(float)\n",
    "    df['Global_reactive_power'] = df['Global_reactive_power'].astype(float)\n",
    "    df['Voltage'] = df['Voltage'].astype(float)\n",
    "    df['Global_intensity'] = df['Global_intensity'].astype(float)\n",
    "    df['Sub_metering_1'] = df['Sub_metering_1'].astype(float)\n",
    "    df['Sub_metering_2'] = df['Sub_metering_2'].astype(float)\n",
    "    df['Sub_metering_3'] = df['Sub_metering_3'].astype(float)\n",
    "\n",
    "\n",
    "    df.insert(0,\"DataTime\", pd.to_datetime(df['Date'] + ' ' + df['Time']))\n",
    "    df = df.drop(['Date', 'Time'], axis=1)\n",
    "\n",
    "    return df\n",
    "\n",
    "#load_data()\n",
    "df = create_df()"
   ]
  },
  {
   "cell_type": "code",
   "execution_count": 121,
   "metadata": {},
   "outputs": [
    {
     "name": "stdout",
     "output_type": "stream",
     "text": [
      "<class 'pandas.core.frame.DataFrame'>\n",
      "Index: 2049280 entries, 0 to 2075258\n",
      "Data columns (total 8 columns):\n",
      " #   Column                 Dtype         \n",
      "---  ------                 -----         \n",
      " 0   DataTime               datetime64[ns]\n",
      " 1   Global_active_power    float64       \n",
      " 2   Global_reactive_power  float64       \n",
      " 3   Voltage                float64       \n",
      " 4   Global_intensity       float64       \n",
      " 5   Sub_metering_1         float64       \n",
      " 6   Sub_metering_2         float64       \n",
      " 7   Sub_metering_3         float64       \n",
      "dtypes: datetime64[ns](1), float64(7)\n",
      "memory usage: 140.7 MB\n"
     ]
    }
   ],
   "source": [
    "df.info()\n",
    "#df.Time.nunique()\n",
    "#print(df)\n",
    "#df.to_csv('output.csv', index=False)"
   ]
  },
  {
   "cell_type": "markdown",
   "metadata": {},
   "source": [
    "#### Хід роботи"
   ]
  },
  {
   "cell_type": "markdown",
   "metadata": {},
   "source": [
    "- проаналізувати часові витрати на виконання процедур(профілювання часу виконання)\n",
    "- зробити висновки щодо ситуацій, в яких має сенс віддати перевагу тій чи іншій структурі даних. Висновки оформити звітом із зазначеним часом виконання та оцінкою по 5-бальній шкалі зручності виконання операцій відбору.\n",
    "- залишити лише ті спостереження, в яких немає порожніх спостережень (порожні значення – пусті поля між роздільником – ? – 28.04.2007, як приклад)."
   ]
  },
  {
   "cell_type": "markdown",
   "metadata": {},
   "source": [
    "1. Обрати всі домогосподарства, у яких загальна активна споживана потужність перевищує 5 кВт."
   ]
  },
  {
   "cell_type": "code",
   "execution_count": 128,
   "metadata": {},
   "outputs": [
    {
     "name": "stdout",
     "output_type": "stream",
     "text": [
      "with np: 0.1014428000053158\n",
      "with pd: 0.09902060001331847\n"
     ]
    }
   ],
   "source": [
    "def fun_1_pd(df):\n",
    "    result_df = df[(df['Global_active_power'] >= 5)]\n",
    "    return result_df\n",
    "\n",
    "def fun_1_np(df):\n",
    "    result_df = df.iloc[np.where(df['Global_active_power'] >= 5)]\n",
    "    return result_df\n",
    "\n",
    "Timer = timeit.timeit()\n",
    "fun_1_np(df)\n",
    "print(\"with np:\", Timer)\n",
    "\n",
    "Timer = timeit.timeit()\n",
    "fun_1_pd(df)\n",
    "print(\"with pd:\", Timer)"
   ]
  },
  {
   "cell_type": "markdown",
   "metadata": {},
   "source": [
    "2. Обрати всі домогосподарства, у яких вольтаж перевищую 235 В."
   ]
  },
  {
   "cell_type": "code",
   "execution_count": 129,
   "metadata": {},
   "outputs": [
    {
     "name": "stdout",
     "output_type": "stream",
     "text": [
      "with np: 0.11764159999438561\n",
      "with pd: 0.10286899999482557\n"
     ]
    }
   ],
   "source": [
    "def fun_2_pd(df):\n",
    "    result_df = df[(df['Voltage'] >= 235)]\n",
    "    return result_df\n",
    "\n",
    "def fun_2_np(df):\n",
    "    result_df = df.iloc[np.where(df['Voltage'] >= 235)]\n",
    "    return result_df\n",
    "\n",
    "Timer = timeit.timeit()\n",
    "fun_2_np(df)\n",
    "print(\"with np:\", Timer)\n",
    "\n",
    "Timer = timeit.timeit()\n",
    "fun_2_pd(df)\n",
    "print(\"with pd:\", Timer)"
   ]
  },
  {
   "cell_type": "markdown",
   "metadata": {},
   "source": [
    "3. Обрати всі домогосподарства, у яких сила струму лежить в межах 19-20 А, для них виявити ті, у яких пральна машина та холодильних споживають більше, ніж бойлер та кондиціонер."
   ]
  },
  {
   "cell_type": "code",
   "execution_count": 198,
   "metadata": {},
   "outputs": [
    {
     "name": "stdout",
     "output_type": "stream",
     "text": [
      "with np: 0.10507049999432638\n",
      "with pd: 0.10464370000408962\n"
     ]
    }
   ],
   "source": [
    "def fun_3_pd(df):\n",
    "    result_df = df[(df['Global_intensity'].between(19, 20)) & (df['Sub_metering_2'] > df['Sub_metering_3'])]\n",
    "    return result_df\n",
    "\n",
    "def fun_3_np(df):\n",
    "    result_df = df.iloc[np.where((df['Global_intensity'].between(19, 20)) & (df['Sub_metering_2'] > df['Sub_metering_3']))]\n",
    "    return result_df\n",
    "\n",
    "Timer = timeit.timeit(); fun_3_np(df); print(\"with np:\", Timer)\n",
    "\n",
    "Timer = timeit.timeit(); fun_3_pd(df); print(\"with pd:\", Timer)"
   ]
  },
  {
   "cell_type": "markdown",
   "metadata": {},
   "source": [
    "4. Обрати випадковим чином 5000(00)? домогосподарств (без повторів елементів вибірки), для них обчислити середні величини усіх 3-х груп споживання електричної енергії."
   ]
  },
  {
   "cell_type": "code",
   "execution_count": null,
   "metadata": {},
   "outputs": [],
   "source": [
    "def fun_4_pd(df):\n",
    "    result_df = df.iloc[np.random.choice(df['Voltage'], size = 5000)] #500000. but not even 5000\n",
    "    avg_1 = result_df['Sub_metering_1'].mean() # mean from pandas\n",
    "    avg_2 = result_df['Sub_metering_2'].mean()\n",
    "    avg_3 = result_df['Sub_metering_3'].mean()\n",
    "    print(f\"Sub 1 avg: {avg_1}\\nSub 2 avg: {avg_2}\\nSub 3 avg: {avg_3}\")\n",
    "    \n",
    "    return result_df\n",
    "\n",
    "print(fun_4_pd(df))"
   ]
  },
  {
   "cell_type": "markdown",
   "metadata": {},
   "source": [
    "5. Обрати ті домогосподарства, які після 18-00 споживають понад 6 кВт за хвилину в середньому, серед відібраних визначити ті, у яких основне споживання електроенергії у вказаний проміжок часу припадає на пральну машину, сушарку, холодильник та освітлення (група 2 є найбільшою), а потім обрати кожен третій результат із першої половини та кожен четвертий результат із другої половини."
   ]
  },
  {
   "cell_type": "code",
   "execution_count": 105,
   "metadata": {},
   "outputs": [
    {
     "name": "stdout",
     "output_type": "stream",
     "text": [
      "                   DataTime  Global_active_power  Global_reactive_power  \\\n",
      "37      2006-12-16 18:01:00                2.624                  0.144   \n",
      "38      2006-12-16 18:02:00                2.772                  0.118   \n",
      "39      2006-12-16 18:03:00                3.740                  0.108   \n",
      "40      2006-12-16 18:04:00                4.928                  0.202   \n",
      "41      2006-12-16 18:05:00                6.052                  0.192   \n",
      "...                     ...                  ...                    ...   \n",
      "2075254 2010-11-26 20:58:00                0.946                  0.000   \n",
      "2075255 2010-11-26 20:59:00                0.944                  0.000   \n",
      "2075256 2010-11-26 21:00:00                0.938                  0.000   \n",
      "2075257 2010-11-26 21:01:00                0.934                  0.000   \n",
      "2075258 2010-11-26 21:02:00                0.932                  0.000   \n",
      "\n",
      "         Voltage  Global_intensity  Sub_metering_1  Sub_metering_2  \\\n",
      "37        238.20              11.0             0.0             0.0   \n",
      "38        238.28              11.6             0.0             0.0   \n",
      "39        236.93              16.4             0.0            16.0   \n",
      "40        235.01              21.0             0.0            37.0   \n",
      "41        232.93              26.2             0.0            37.0   \n",
      "...          ...               ...             ...             ...   \n",
      "2075254   240.43               4.0             0.0             0.0   \n",
      "2075255   240.00               4.0             0.0             0.0   \n",
      "2075256   239.82               3.8             0.0             0.0   \n",
      "2075257   239.70               3.8             0.0             0.0   \n",
      "2075258   239.55               3.8             0.0             0.0   \n",
      "\n",
      "         Sub_metering_3  \n",
      "37                 17.0  \n",
      "38                 17.0  \n",
      "39                 18.0  \n",
      "40                 16.0  \n",
      "41                 17.0  \n",
      "...                 ...  \n",
      "2075254             0.0  \n",
      "2075255             0.0  \n",
      "2075256             0.0  \n",
      "2075257             0.0  \n",
      "2075258             0.0  \n",
      "\n",
      "[511725 rows x 8 columns]\n"
     ]
    }
   ],
   "source": [
    "def fun_5_pd(df):\n",
    "    result_df = df[df[\"DataTime\"].dt.time > time(18, 0)]\n",
    "    return result_df\n",
    "\n",
    "print(fun_5_pd(df))"
   ]
  }
 ],
 "metadata": {
  "kernelspec": {
   "display_name": "Python 3",
   "language": "python",
   "name": "python3"
  },
  "language_info": {
   "codemirror_mode": {
    "name": "ipython",
    "version": 3
   },
   "file_extension": ".py",
   "mimetype": "text/x-python",
   "name": "python",
   "nbconvert_exporter": "python",
   "pygments_lexer": "ipython3",
   "version": "3.12.2"
  }
 },
 "nbformat": 4,
 "nbformat_minor": 2
}
