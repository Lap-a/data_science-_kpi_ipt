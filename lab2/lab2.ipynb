{
 "cells": [
  {
   "cell_type": "markdown",
   "metadata": {},
   "source": [
    "# Засоби підготовки та налізу даних\n",
    "## Лабораторна робота №2\n",
    "### ФБ-22 Лаптєв Денис\n",
    "#### Підготовка середовища"
   ]
  },
  {
   "cell_type": "code",
   "execution_count": 2,
   "metadata": {},
   "outputs": [
    {
     "name": "stderr",
     "output_type": "stream",
     "text": [
      "C:\\Users\\Denys\\AppData\\Local\\Temp\\ipykernel_17504\\269313534.py:4: DeprecationWarning: \n",
      "Pyarrow will become a required dependency of pandas in the next major release of pandas (pandas 3.0),\n",
      "(to allow more performant data types, such as the Arrow string type, and better interoperability with other libraries)\n",
      "but was not found to be installed on your system.\n",
      "If this would cause problems for you,\n",
      "please provide us feedback at https://github.com/pandas-dev/pandas/issues/54466\n",
      "        \n",
      "  import pandas as pd\n"
     ]
    },
    {
     "name": "stdout",
     "output_type": "stream",
     "text": [
      "setup complete\n"
     ]
    }
   ],
   "source": [
    "from os import listdir\n",
    "from datetime import datetime\n",
    "import urllib.request\n",
    "import pandas as pd\n",
    "#import seaborn as sns\n",
    "#import matplotlib.pyplot as plt\n",
    "print ('setup complete')"
   ]
  },
  {
   "cell_type": "markdown",
   "metadata": {},
   "source": [
    "#### Завантаження датасетів"
   ]
  },
  {
   "cell_type": "code",
   "execution_count": 3,
   "metadata": {},
   "outputs": [],
   "source": [
    "def dwn (i, y1, y2):\n",
    "    url='https://www.star.nesdis.noaa.gov/smcd/emb/vci/VH/get_TS_admin.php?country=UKR&provinceID='+str(i)+'&year1='+str(y1)+'&year2='+str(y2)+'&type=Mean'\n",
    "\n",
    "    wp = urllib.request.urlopen(url)\n",
    "    text = wp.read()\n",
    "\n",
    "    now = datetime.now()\n",
    "    date_and_time_time = now.strftime('%d-%m-%Y_%H-%M-%S')\n",
    "    out = open('data/NOAA_ID'+str(i)+'_'+date_and_time_time+'.csv','wb') # 'data/' — dir name\n",
    "    out.write(text)\n",
    "    out.close()\n",
    "\n",
    "\n",
    "\n",
    "\n",
    "for i in range(1,28): # y 29\n",
    "    dwn(i, 2000, 2020)"
   ]
  },
  {
   "cell_type": "markdown",
   "metadata": {},
   "source": [
    "#### Зчитування файлів та об'єднання в один датафрейм"
   ]
  },
  {
   "cell_type": "markdown",
   "metadata": {},
   "source": [
    "Тут я не дуже зрозумів навіщо змінювати ідентифікатори адміністративних центрів\\областей. Та й тим більше, що їх кількість різна."
   ]
  },
  {
   "cell_type": "code",
   "execution_count": 6,
   "metadata": {},
   "outputs": [],
   "source": [
    "def csvs_to_frame(dir):\n",
    "    file_names = listdir(dir)\n",
    "\n",
    "    headers = ['Year', 'Week', 'SMN', 'SMT', 'VCI', 'TCI', 'VHI', 'AreaID']\n",
    "    dfs = []\n",
    "\n",
    "    for name in file_names:\n",
    "        df = pd.read_csv(dir+name, header = 1, names = headers)\n",
    "        df['AreaID'] = int(name[7:-24])\n",
    "\n",
    "        # data cleaning\n",
    "        df = df.drop(df.loc[df['VHI'] == -1].index)\n",
    "        df = df.drop(df.index[-1])\n",
    "        df.at[0, 'Year'] =  df.at[0, 'Year'][9:]\n",
    "        df['Year'] = df['Year'].astype(int)\n",
    "\n",
    "        dfs.append(df)\n",
    "\n",
    "    frame = pd.concat(dfs).drop_duplicates().reset_index(drop=True)\n",
    "    return frame\n",
    "\n",
    "\n",
    "df = csvs_to_frame('data/')"
   ]
  },
  {
   "cell_type": "markdown",
   "metadata": {},
   "source": [
    "#### Виведення"
   ]
  },
  {
   "cell_type": "markdown",
   "metadata": {},
   "source": [
    "##### 1\n",
    "Ряд VHI для області за вказаний рік, пошук екстремумів (min та max);"
   ]
  },
  {
   "cell_type": "code",
   "execution_count": 70,
   "metadata": {},
   "outputs": [
    {
     "name": "stdout",
     "output_type": "stream",
     "text": [
      "max: 11.25 \n",
      "min: 63.27\n"
     ]
    }
   ],
   "source": [
    "\n",
    "def fun_1 (AreaID, year):\n",
    "    result_df = df[(df['Year'] == year) & (df['AreaID'] == AreaID)][['Year', 'Week', 'VHI']]\n",
    "    print ('max:', result_df['VHI'].min(), '\\nmin:', result_df['VHI'].max())\n",
    "    #sns.lineplot(x=result_df['Week'], y=result_df['VHI'])\n",
    "    #print (result_df)\n",
    "\n",
    "\n",
    "fun_1(24, 2000)"
   ]
  },
  {
   "cell_type": "markdown",
   "metadata": {},
   "source": [
    "##### 2\n",
    "Ряд VHI за вказаний діапазон років для вказаних областей; виявити роки, протягом яких екстремальні посухи торкнулися більше вказаного відсотка областей по Україні (20% областей - 5 областей з 25);\n",
    "\n",
    "---\n",
    "\n",
    "Я спростив задачу прибравши обрахунок відсотку, оскільки це доволі просто додати та не впливає на сам алгоритм. Нам все одно потрібно отримати кількість областей. Тобто замість цього у виклику функції передається кількість і відповідно виводяться роки у яких було більше вказаної кількості регіонів з посухою."
   ]
  },
  {
   "cell_type": "code",
   "execution_count": 71,
   "metadata": {},
   "outputs": [],
   "source": [
    "def fun_21(y1, y2, areas):\n",
    "    result_df = df[(df['Year'] >= y1) & (df['Year'] <= y2) & (df['AreaID'].isin(areas))]\n",
    "    #plt.figure(figsize=(14,6)); sns.lineplot(x=result_df['Year'], y=result_df['VHI'], hue=result_df['AreaID'])\n",
    "    #print (result_df)\n",
    "\n",
    "fun_21(2000, 2020, [5, 20])"
   ]
  },
  {
   "cell_type": "code",
   "execution_count": 68,
   "metadata": {},
   "outputs": [
    {
     "name": "stdout",
     "output_type": "stream",
     "text": [
      "Year\n",
      "2000    6\n",
      "2007    5\n",
      "Name: count, dtype: int64\n"
     ]
    }
   ],
   "source": [
    "def fun_22(amount):\n",
    "    df_drought = df[df['VHI'] <= 15][['VHI', 'Year', 'Week', 'AreaID']] # обираютсья з посухою\n",
    "    df_drought = df_drought.drop_duplicates(subset=['Year', 'AreaID']) # мають однакову комбінацію року та території\n",
    "    # достатньо лиш одного тижня з посухою аби зарахувати рік\n",
    "    #print (df_drought)\n",
    "    counts = df_drought['Year'].value_counts() # кількістів рядків за роком\n",
    "    result_year = counts[counts > amount] # більше за зазначене\n",
    "    print(result_year)\n",
    "\n",
    "fun_22(4)"
   ]
  },
  {
   "cell_type": "markdown",
   "metadata": {},
   "source": [
    "\n",
    "##### 3\n",
    "Аналогічно для помірних посух"
   ]
  },
  {
   "cell_type": "code",
   "execution_count": 72,
   "metadata": {},
   "outputs": [
    {
     "name": "stdout",
     "output_type": "stream",
     "text": [
      "Year\n",
      "2000    27\n",
      "2019    27\n",
      "2015    24\n",
      "Name: count, dtype: int64\n"
     ]
    }
   ],
   "source": [
    "def fun_3(amount):\n",
    "    df_drought = df[df['VHI'] <= 35][['VHI', 'Year', 'Week', 'AreaID']]\n",
    "    df_drought = df_drought.drop_duplicates(subset=['Year', 'AreaID'])\n",
    "    #print (df_drought)\n",
    "    counts = df_drought['Year'].value_counts()\n",
    "    result_year = counts[counts > amount]\n",
    "    print(result_year)\n",
    "\n",
    "\n",
    "fun_3(20)"
   ]
  }
 ],
 "metadata": {
  "kernelspec": {
   "display_name": "Python 3",
   "language": "python",
   "name": "python3"
  },
  "language_info": {
   "codemirror_mode": {
    "name": "ipython",
    "version": 3
   },
   "file_extension": ".py",
   "mimetype": "text/x-python",
   "name": "python",
   "nbconvert_exporter": "python",
   "pygments_lexer": "ipython3",
   "version": "3.12.2"
  }
 },
 "nbformat": 4,
 "nbformat_minor": 2
}
